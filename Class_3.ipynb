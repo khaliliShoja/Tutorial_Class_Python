{
 "cells": [
  {
   "cell_type": "code",
   "execution_count": null,
   "metadata": {
    "collapsed": false,
    "history": [
     {
      "code": "jupyter nbextension install --user --py nbtimetravel\n",
      "response": {
       "content": {
        "ename": "SyntaxError",
        "evalue": "invalid syntax (<ipython-input-4-22e178ca8e4d>, line 1)",
        "traceback": [
         "\u001b[0;36m  File \u001b[0;32m\"<ipython-input-4-22e178ca8e4d>\"\u001b[0;36m, line \u001b[0;32m1\u001b[0m\n\u001b[0;31m    jupyter nbextension install --user --py nbtimetravel\u001b[0m\n\u001b[0m                      ^\u001b[0m\n\u001b[0;31mSyntaxError\u001b[0m\u001b[0;31m:\u001b[0m invalid syntax\n"
        ]
       },
       "metadata": {},
       "msg_type": "error",
       "version": "5.0"
      },
      "timestamp": "2017-04-07T06:48:05.576Z"
     },
     {
      "code": "jupyter nbextension install  --py nbtimetravel\n",
      "response": {
       "content": {
        "ename": "SyntaxError",
        "evalue": "invalid syntax (<ipython-input-5-5728c8093eb9>, line 1)",
        "traceback": [
         "\u001b[0;36m  File \u001b[0;32m\"<ipython-input-5-5728c8093eb9>\"\u001b[0;36m, line \u001b[0;32m1\u001b[0m\n\u001b[0;31m    jupyter nbextension install  --py nbtimetravel\u001b[0m\n\u001b[0m                      ^\u001b[0m\n\u001b[0;31mSyntaxError\u001b[0m\u001b[0;31m:\u001b[0m invalid syntax\n"
        ]
       },
       "metadata": {},
       "msg_type": "error",
       "version": "5.0"
      },
      "timestamp": "2017-04-07T06:48:14.683Z"
     }
    ],
    "nbpresent": {
     "id": "ec4e983b-9809-456c-9ffd-d8f7e6c58ee1"
    }
   },
   "outputs": [],
   "source": []
  },
  {
   "cell_type": "code",
   "execution_count": 87,
   "metadata": {
    "collapsed": true,
    "nbpresent": {
     "id": "8f1fe28d-7bef-4e3a-afd3-ba8433ad7f20"
    }
   },
   "outputs": [],
   "source": [
    "class Employee:\n",
    "\n",
    "  \n",
    "    raise_amt = 1.04\n",
    "\n",
    "    def __init__(self, first, last, pay):\n",
    "        self.first = first\n",
    "        self.last = last\n",
    "        self.email = first + '.' + last + '@email.com'\n",
    "        self.pay = pay\n",
    "\n",
    "        \n",
    "    @classmethod\n",
    "    def set_raise_amt(cls, amount):\n",
    "        cls.raise_amt=amount\n",
    "    @classmethod\n",
    "    def from_string(cls, emp):\n",
    "        first, last, pay = emp.split('-')\n",
    "        return cls(first, last, pay)\n",
    "    @staticmethod\n",
    "    def check_1(number):\n",
    "        if (number > 12):\n",
    "            return \"Big number\"\n",
    "        else:\n",
    "            return \"Small number\"\n",
    "    def apply_raise(self):\n",
    "        self.pay = int(self.pay * self.raise_amt)\n",
    "    def fullname(self):\n",
    "        return '{} {}'.format(self.first, self.last)"
   ]
  },
  {
   "cell_type": "code",
   "execution_count": 88,
   "metadata": {
    "collapsed": true,
    "nbpresent": {
     "id": "3e05e89a-6626-4d2a-80b8-d91fce5b10dc"
    }
   },
   "outputs": [],
   "source": [
    "    def fullname(self):\n",
    "        return '{} {}'.format(self.first, self.last)"
   ]
  },
  {
   "cell_type": "code",
   "execution_count": 89,
   "metadata": {
    "collapsed": false,
    "history": [
     {
      "code": "print(\"salam\")\n        ",
      "response": {
       "content": {
        "name": "stdout",
        "text": "salam\n"
       },
       "metadata": {},
       "msg_type": "stream",
       "version": "5.0"
      },
      "timestamp": "2017-04-07T06:35:14.821Z"
     },
     {
      "code": "print(\"by\")\nprint(\"salam\")\n\n        ",
      "response": {
       "content": {
        "name": "stdout",
        "text": "by\nsalam\n"
       },
       "metadata": {},
       "msg_type": "stream",
       "version": "5.0"
      },
      "timestamp": "2017-04-07T06:35:29.745Z"
     },
     {
      "code": "print(\"SSSSS\")\nprint(\"by\")\nprint(\"salam\")\n\n        ",
      "response": {
       "content": {
        "name": "stdout",
        "text": "SSSSS\nby\nsalam\n"
       },
       "metadata": {},
       "msg_type": "stream",
       "version": "5.0"
      },
      "timestamp": "2017-04-07T06:38:25.925Z"
     }
    ],
    "nbpresent": {
     "id": "101b8753-ed7c-41d3-ae52-0f1dbb71f87a"
    },
    "slideshow": {
     "slide_type": "-"
    }
   },
   "outputs": [],
   "source": [
    "# defining subclass\n",
    "class Developer(Employee):\n",
    "    raise_amt = 1.10\n",
    "\n",
    "\n",
    "\n",
    "        "
   ]
  },
  {
   "cell_type": "code",
   "execution_count": 90,
   "metadata": {
    "collapsed": true,
    "nbpresent": {
     "id": "f61b6bb4-0230-4f5b-9754-9ff80eff6308"
    }
   },
   "outputs": [],
   "source": [
    "dev_1 = Developer('Corey', 'Schafer', 50000)\n",
    "emp_2 = Employee('Test', 'Employee', 60000)"
   ]
  },
  {
   "cell_type": "code",
   "execution_count": 91,
   "metadata": {
    "collapsed": false,
    "history": [
     {
      "code": "print(Employee.raise_amt)\nprint(emp_1.raise_amt)\nprint(emp_2.raise_amt)",
      "response": {
       "content": {
        "name": "stdout",
        "text": "1.04\n1.04\n1.04\n"
       },
       "metadata": {},
       "msg_type": "stream",
       "version": "5.0"
      },
      "timestamp": "2017-04-07T16:49:50.910Z"
     },
     {
      "code": "print(Employee.raise_amt)\nprint(emp_1.raise_amt)\nprint(emp_2.raise_amt)",
      "response": {
       "content": {
        "name": "stdout",
        "text": "1.04\n1.04\n1.04\n"
       },
       "metadata": {},
       "msg_type": "stream",
       "version": "5.0"
      },
      "timestamp": "2017-04-07T16:51:03.244Z"
     },
     {
      "code": "print(Employee.raise_amt)\nprint(emp_1.raise_amt)\nprint(emp_2.raise_amt)",
      "response": {
       "content": {
        "name": "stdout",
        "text": "1.04\n1.04\n1.04\n"
       },
       "metadata": {},
       "msg_type": "stream",
       "version": "5.0"
      },
      "timestamp": "2017-04-07T16:52:28.281Z"
     },
     {
      "code": "print(Employee.raise_amt)\nprint(emp_1.raise_amt)\nprint(emp_2.raise_amt)",
      "response": {
       "content": {
        "name": "stdout",
        "text": "1.04\n1.04\n1.04\n"
       },
       "metadata": {},
       "msg_type": "stream",
       "version": "5.0"
      },
      "timestamp": "2017-04-07T16:52:54.944Z"
     },
     {
      "code": "print(Employee.raise_amt)\nprint(emp_1.raise_amt)\nprint(emp_2.raise_amt)",
      "response": {
       "content": {
        "name": "stdout",
        "text": "1.08\n1.1\n1.08\n"
       },
       "metadata": {},
       "msg_type": "stream",
       "version": "5.0"
      },
      "timestamp": "2017-04-07T16:55:49.902Z"
     },
     {
      "code": "print(Employee.raise_amt)\nprint(emp_1.raise_amt)\nprint(emp_2.raise_amt)",
      "response": {
       "content": {
        "name": "stdout",
        "text": "1.04\n1.1\n1.04\n"
       },
       "metadata": {},
       "msg_type": "stream",
       "version": "5.0"
      },
      "timestamp": "2017-04-07T16:57:09.684Z"
     },
     {
      "code": "print(Employee.raise_amt)\nprint(emp_1.raise_amt)\nprint(emp_2.raise_amt)",
      "response": {
       "content": {
        "name": "stdout",
        "text": "1.04\n1.1\n1.04\n"
       },
       "metadata": {},
       "msg_type": "stream",
       "version": "5.0"
      },
      "timestamp": "2017-04-07T16:59:44.648Z"
     },
     {
      "code": "print(Employee.raise_amt)\nprint(emp_1.raise_amt)\nprint(emp_2.raise_amt)",
      "response": {
       "content": {
        "name": "stdout",
        "text": "1.04\n1.1\n1.04\n"
       },
       "metadata": {},
       "msg_type": "stream",
       "version": "5.0"
      },
      "timestamp": "2017-04-07T17:03:08.971Z"
     },
     {
      "code": "print(Employee.raise_amt)\nprint(emp_1.raise_amt)\nprint(emp_2.raise_amt)",
      "response": {
       "content": {
        "name": "stdout",
        "text": "1.04\n1.1\n1.04\n"
       },
       "metadata": {},
       "msg_type": "stream",
       "version": "5.0"
      },
      "timestamp": "2017-04-07T17:03:30.108Z"
     }
    ],
    "nbpresent": {
     "id": "9a4b3ec8-9f34-441c-bf05-6546bbe3fc4f"
    }
   },
   "outputs": [
    {
     "name": "stdout",
     "output_type": "stream",
     "text": [
      "1.04\n",
      "1.1\n",
      "1.04\n"
     ]
    }
   ],
   "source": [
    "print(Employee.raise_amt)\n",
    "print(emp_1.raise_amt)\n",
    "print(emp_2.raise_amt)"
   ]
  },
  {
   "cell_type": "code",
   "execution_count": 92,
   "metadata": {
    "collapsed": false,
    "history": [
     {
      "code": "print(help(Developer))",
      "response": {
       "content": {
        "name": "stdout",
        "text": "Help on class Developer in module __main__:\n\nclass Developer(Employee)\n |  Method resolution order:\n |      Developer\n |      Employee\n |      builtins.object\n |  \n |  Data and other attributes defined here:\n |  \n |  raise_amt = 1.1\n |  \n |  ----------------------------------------------------------------------\n |  Methods inherited from Employee:\n |  \n |  __init__(self, first, last, pay)\n |      Initialize self.  See help(type(self)) for accurate signature.\n |  \n |  apply_raise(self)\n |  \n |  fullname(self)\n |  \n |  ----------------------------------------------------------------------\n |  Class methods inherited from Employee:\n |  \n |  from_string(emp) from builtins.type\n |  \n |  set_raise_amt(amount) from builtins.type\n |  \n |  ----------------------------------------------------------------------\n |  Static methods inherited from Employee:\n |  \n |  check_1(number)\n |  \n |  ----------------------------------------------------------------------\n |  Data descriptors inherited from Employee:\n |  \n |  __dict__\n |      dictionary for instance variables (if defined)\n |  \n |  __weakref__\n |      list of weak references to the object (if defined)\n\nNone\n"
       },
       "metadata": {},
       "msg_type": "stream",
       "version": "5.0"
      },
      "timestamp": "2017-04-07T16:57:09.721Z"
     },
     {
      "code": "print(help(Developer))",
      "response": {
       "content": {
        "name": "stdout",
        "text": "Help on class Developer in module __main__:\n\nclass Developer(Employee)\n |  Method resolution order:\n |      Developer\n |      Employee\n |      builtins.object\n |  \n |  Data and other attributes defined here:\n |  \n |  raise_amt = 1.1\n |  \n |  ----------------------------------------------------------------------\n |  Methods inherited from Employee:\n |  \n |  __init__(self, first, last, pay)\n |      Initialize self.  See help(type(self)) for accurate signature.\n |  \n |  apply_raise(self)\n |  \n |  fullname(self)\n |  \n |  ----------------------------------------------------------------------\n |  Class methods inherited from Employee:\n |  \n |  from_string(emp) from builtins.type\n |  \n |  set_raise_amt(amount) from builtins.type\n |  \n |  ----------------------------------------------------------------------\n |  Static methods inherited from Employee:\n |  \n |  check_1(number)\n |  \n |  ----------------------------------------------------------------------\n |  Data descriptors inherited from Employee:\n |  \n |  __dict__\n |      dictionary for instance variables (if defined)\n |  \n |  __weakref__\n |      list of weak references to the object (if defined)\n\nNone\n"
       },
       "metadata": {},
       "msg_type": "stream",
       "version": "5.0"
      },
      "timestamp": "2017-04-07T16:58:27.719Z"
     },
     {
      "code": "print(help(Developer))",
      "response": {
       "content": {
        "name": "stdout",
        "text": "Help on class Developer in module __main__:\n\nclass Developer(Employee)\n |  Method resolution order:\n |      Developer\n |      Employee\n |      builtins.object\n |  \n |  Data and other attributes defined here:\n |  \n |  raise_amt = 1.1\n |  \n |  ----------------------------------------------------------------------\n |  Methods inherited from Employee:\n |  \n |  __init__(self, first, last, pay)\n |      Initialize self.  See help(type(self)) for accurate signature.\n |  \n |  apply_raise(self)\n |  \n |  fullname(self)\n |  \n |  ----------------------------------------------------------------------\n |  Class methods inherited from Employee:\n |  \n |  from_string(emp) from builtins.type\n |  \n |  set_raise_amt(amount) from builtins.type\n |  \n |  ----------------------------------------------------------------------\n |  Static methods inherited from Employee:\n |  \n |  check_1(number)\n |  \n |  ----------------------------------------------------------------------\n |  Data descriptors inherited from Employee:\n |  \n |  __dict__\n |      dictionary for instance variables (if defined)\n |  \n |  __weakref__\n |      list of weak references to the object (if defined)\n\nNone\n"
       },
       "metadata": {},
       "msg_type": "stream",
       "version": "5.0"
      },
      "timestamp": "2017-04-07T16:58:33.395Z"
     },
     {
      "code": "print(help(Developer))",
      "response": {
       "content": {
        "name": "stdout",
        "text": "Help on class Developer in module __main__:\n\nclass Developer(Employee)\n |  Method resolution order:\n |      Developer\n |      Employee\n |      builtins.object\n |  \n |  Data and other attributes defined here:\n |  \n |  raise_amt = 1.1\n |  \n |  ----------------------------------------------------------------------\n |  Methods inherited from Employee:\n |  \n |  __init__(self, first, last, pay)\n |      Initialize self.  See help(type(self)) for accurate signature.\n |  \n |  apply_raise(self)\n |  \n |  fullname(self)\n |  \n |  ----------------------------------------------------------------------\n |  Class methods inherited from Employee:\n |  \n |  from_string(emp) from builtins.type\n |  \n |  set_raise_amt(amount) from builtins.type\n |  \n |  ----------------------------------------------------------------------\n |  Static methods inherited from Employee:\n |  \n |  check_1(number)\n |  \n |  ----------------------------------------------------------------------\n |  Data descriptors inherited from Employee:\n |  \n |  __dict__\n |      dictionary for instance variables (if defined)\n |  \n |  __weakref__\n |      list of weak references to the object (if defined)\n\nNone\n"
       },
       "metadata": {},
       "msg_type": "stream",
       "version": "5.0"
      },
      "timestamp": "2017-04-07T16:59:44.673Z"
     },
     {
      "code": "print(help(Developer))",
      "response": {
       "content": {
        "name": "stdout",
        "text": "Help on class Developer in module __main__:\n\nclass Developer(Employee)\n |  Method resolution order:\n |      Developer\n |      Employee\n |      builtins.object\n |  \n |  Data and other attributes defined here:\n |  \n |  raise_amt = 1.1\n |  \n |  ----------------------------------------------------------------------\n |  Methods inherited from Employee:\n |  \n |  __init__(self, first, last, pay)\n |      Initialize self.  See help(type(self)) for accurate signature.\n |  \n |  apply_raise(self)\n |  \n |  fullname(self)\n |  \n |  ----------------------------------------------------------------------\n |  Class methods inherited from Employee:\n |  \n |  from_string(emp) from builtins.type\n |  \n |  set_raise_amt(amount) from builtins.type\n |  \n |  ----------------------------------------------------------------------\n |  Static methods inherited from Employee:\n |  \n |  check_1(number)\n |  \n |  ----------------------------------------------------------------------\n |  Data descriptors inherited from Employee:\n |  \n |  __dict__\n |      dictionary for instance variables (if defined)\n |  \n |  __weakref__\n |      list of weak references to the object (if defined)\n\nNone\n"
       },
       "metadata": {},
       "msg_type": "stream",
       "version": "5.0"
      },
      "timestamp": "2017-04-07T17:03:09.003Z"
     },
     {
      "code": "print(help(Developer))",
      "response": {
       "content": {
        "name": "stdout",
        "text": "Help on class Developer in module __main__:\n\nclass Developer(Employee)\n |  Method resolution order:\n |      Developer\n |      Employee\n |      builtins.object\n |  \n |  Data and other attributes defined here:\n |  \n |  raise_amt = 1.1\n |  \n |  ----------------------------------------------------------------------\n |  Methods inherited from Employee:\n |  \n |  __init__(self, first, last, pay)\n |      Initialize self.  See help(type(self)) for accurate signature.\n |  \n |  apply_raise(self)\n |  \n |  fullname(self)\n |  \n |  ----------------------------------------------------------------------\n |  Class methods inherited from Employee:\n |  \n |  from_string(emp) from builtins.type\n |  \n |  set_raise_amt(amount) from builtins.type\n |  \n |  ----------------------------------------------------------------------\n |  Static methods inherited from Employee:\n |  \n |  check_1(number)\n |  \n |  ----------------------------------------------------------------------\n |  Data descriptors inherited from Employee:\n |  \n |  __dict__\n |      dictionary for instance variables (if defined)\n |  \n |  __weakref__\n |      list of weak references to the object (if defined)\n\nNone\n"
       },
       "metadata": {},
       "msg_type": "stream",
       "version": "5.0"
      },
      "timestamp": "2017-04-07T17:03:30.128Z"
     }
    ]
   },
   "outputs": [
    {
     "name": "stdout",
     "output_type": "stream",
     "text": [
      "Help on class Developer in module __main__:\n",
      "\n",
      "class Developer(Employee)\n",
      " |  Method resolution order:\n",
      " |      Developer\n",
      " |      Employee\n",
      " |      builtins.object\n",
      " |  \n",
      " |  Data and other attributes defined here:\n",
      " |  \n",
      " |  raise_amt = 1.1\n",
      " |  \n",
      " |  ----------------------------------------------------------------------\n",
      " |  Methods inherited from Employee:\n",
      " |  \n",
      " |  __init__(self, first, last, pay)\n",
      " |      Initialize self.  See help(type(self)) for accurate signature.\n",
      " |  \n",
      " |  apply_raise(self)\n",
      " |  \n",
      " |  fullname(self)\n",
      " |  \n",
      " |  ----------------------------------------------------------------------\n",
      " |  Class methods inherited from Employee:\n",
      " |  \n",
      " |  from_string(emp) from builtins.type\n",
      " |  \n",
      " |  set_raise_amt(amount) from builtins.type\n",
      " |  \n",
      " |  ----------------------------------------------------------------------\n",
      " |  Static methods inherited from Employee:\n",
      " |  \n",
      " |  check_1(number)\n",
      " |  \n",
      " |  ----------------------------------------------------------------------\n",
      " |  Data descriptors inherited from Employee:\n",
      " |  \n",
      " |  __dict__\n",
      " |      dictionary for instance variables (if defined)\n",
      " |  \n",
      " |  __weakref__\n",
      " |      list of weak references to the object (if defined)\n",
      "\n",
      "None\n"
     ]
    }
   ],
   "source": [
    "print(help(Developer))"
   ]
  },
  {
   "cell_type": "code",
   "execution_count": 96,
   "metadata": {
    "collapsed": false,
    "history": [
     {
      "code": "print(emp_2.raise_amt)",
      "response": {
       "content": {
        "name": "stdout",
        "text": "1.04\n"
       },
       "metadata": {},
       "msg_type": "stream",
       "version": "5.0"
      },
      "timestamp": "2017-04-07T17:00:36.686Z"
     },
     {
      "code": "print(emp_2.raise_amt)",
      "response": {
       "content": {
        "name": "stdout",
        "text": "1.04\n"
       },
       "metadata": {},
       "msg_type": "stream",
       "version": "5.0"
      },
      "timestamp": "2017-04-07T17:00:41.000Z"
     },
     {
      "code": "print(emp_2.raise_amt)\nemp_2.apply_raise()\nprint(emp_2.raise_amt)",
      "response": {
       "content": {
        "name": "stdout",
        "text": "1.04\n1.04\n"
       },
       "metadata": {},
       "msg_type": "stream",
       "version": "5.0"
      },
      "timestamp": "2017-04-07T17:01:20.756Z"
     },
     {
      "code": "print(emp_2.raise_amt)\nemp_2.apply_raise()\nprint(emp_2.raise_amt)",
      "response": {
       "content": {
        "name": "stdout",
        "text": "1.04\n1.04\n"
       },
       "metadata": {},
       "msg_type": "stream",
       "version": "5.0"
      },
      "timestamp": "2017-04-07T17:03:09.025Z"
     },
     {
      "code": "print(emp_2.pay)\nemp_2.apply_raise()\nprint(emp_2.pay)",
      "response": {
       "content": {
        "name": "stdout",
        "text": "62400\n64896\n"
       },
       "metadata": {},
       "msg_type": "stream",
       "version": "5.0"
      },
      "timestamp": "2017-04-07T17:03:26.593Z"
     },
     {
      "code": "print(emp_2.pay)\nemp_2.apply_raise()\nprint(emp_2.pay)",
      "response": {
       "content": {
        "name": "stdout",
        "text": "60000\n62400\n"
       },
       "metadata": {},
       "msg_type": "stream",
       "version": "5.0"
      },
      "timestamp": "2017-04-07T17:03:30.160Z"
     },
     {
      "code": "print(emp_2.raise_amt)\nprint(emp_2.pay)\nemp_2.apply_raise()\nprint(emp_2.pay)",
      "response": {
       "content": {
        "name": "stdout",
        "text": "1.04\n62400\n64896\n"
       },
       "metadata": {},
       "msg_type": "stream",
       "version": "5.0"
      },
      "timestamp": "2017-04-07T17:04:25.314Z"
     }
    ]
   },
   "outputs": [
    {
     "name": "stdout",
     "output_type": "stream",
     "text": [
      "1.04\n",
      "62400\n",
      "64896\n"
     ]
    }
   ],
   "source": [
    "print(emp_2.raise_amt)\n",
    "print(emp_2.pay)\n",
    "emp_2.apply_raise()\n",
    "print(emp_2.pay)"
   ]
  },
  {
   "cell_type": "code",
   "execution_count": 95,
   "metadata": {
    "collapsed": false,
    "history": [
     {
      "code": "print(dev_1.raise_amt)\ndev_1.apply_raise()\nprint(dev_1.raise_amt)",
      "response": {
       "content": {
        "name": "stdout",
        "text": "1.1\n1.1\n"
       },
       "metadata": {},
       "msg_type": "stream",
       "version": "5.0"
      },
      "timestamp": "2017-04-07T17:01:48.985Z"
     },
     {
      "code": "print(dev_1.pay)\ndev_1.apply_raise()\nprint(dev_1.raise_amt)",
      "response": {
       "content": {
        "name": "stdout",
        "text": "55000\n1.1\n"
       },
       "metadata": {},
       "msg_type": "stream",
       "version": "5.0"
      },
      "timestamp": "2017-04-07T17:02:47.425Z"
     },
     {
      "code": "print(dev_1.pay)\ndev_1.apply_raise()\nprint(dev_1.pay)",
      "response": {
       "content": {
        "name": "stdout",
        "text": "60500\n66550\n"
       },
       "metadata": {},
       "msg_type": "stream",
       "version": "5.0"
      },
      "timestamp": "2017-04-07T17:02:54.745Z"
     },
     {
      "code": "print(dev_1.pay)\ndev_1.apply_raise()\nprint(dev_1.pay)",
      "response": {
       "content": {
        "name": "stdout",
        "text": "66550\n73205\n"
       },
       "metadata": {},
       "msg_type": "stream",
       "version": "5.0"
      },
      "timestamp": "2017-04-07T17:03:04.032Z"
     },
     {
      "code": "print(dev_1.pay)\ndev_1.apply_raise()\nprint(dev_1.pay)",
      "response": {
       "content": {
        "name": "stdout",
        "text": "50000\n55000\n"
       },
       "metadata": {},
       "msg_type": "stream",
       "version": "5.0"
      },
      "timestamp": "2017-04-07T17:03:09.068Z"
     },
     {
      "code": "print(dev_1.pay)\ndev_1.apply_raise()\nprint(dev_1.pay)",
      "response": {
       "content": {
        "name": "stdout",
        "text": "50000\n55000\n"
       },
       "metadata": {},
       "msg_type": "stream",
       "version": "5.0"
      },
      "timestamp": "2017-04-07T17:03:30.194Z"
     },
     {
      "code": "print(dev_1.raise_amt)\nprint(dev_1.pay)\ndev_1.apply_raise()\nprint(dev_1.pay)",
      "response": {
       "content": {
        "name": "stdout",
        "text": "1.1\n55000\n60500\n"
       },
       "metadata": {},
       "msg_type": "stream",
       "version": "5.0"
      },
      "timestamp": "2017-04-07T17:04:21.674Z"
     }
    ]
   },
   "outputs": [
    {
     "name": "stdout",
     "output_type": "stream",
     "text": [
      "1.1\n",
      "55000\n",
      "60500\n"
     ]
    }
   ],
   "source": [
    "print(dev_1.raise_amt)\n",
    "print(dev_1.pay)\n",
    "dev_1.apply_raise()\n",
    "print(dev_1.pay)"
   ]
  },
  {
   "cell_type": "code",
   "execution_count": null,
   "metadata": {
    "collapsed": true
   },
   "outputs": [],
   "source": []
  },
  {
   "cell_type": "code",
   "execution_count": null,
   "metadata": {
    "collapsed": true
   },
   "outputs": [],
   "source": []
  }
 ],
 "metadata": {
  "anaconda-cloud": {},
  "celltoolbar": "Slideshow",
  "kernelspec": {
   "display_name": "Python [conda root]",
   "language": "python",
   "name": "conda-root-py"
  },
  "language_info": {
   "codemirror_mode": {
    "name": "ipython",
    "version": 3
   },
   "file_extension": ".py",
   "mimetype": "text/x-python",
   "name": "python",
   "nbconvert_exporter": "python",
   "pygments_lexer": "ipython3",
   "version": "3.5.2"
  },
  "nbpresent": {
   "slides": {
    "044e8d67-8b4d-4629-a04d-39050f5231d9": {
     "id": "044e8d67-8b4d-4629-a04d-39050f5231d9",
     "prev": "2c402587-f394-4b40-9cf4-f6c29754fa75",
     "regions": {
      "e11f8ae0-4c2a-427f-9ce1-6d2030864789": {
       "attrs": {
        "height": 0.8,
        "width": 0.8,
        "x": 0.1,
        "y": 0.1
       },
       "content": {
        "cell": "3e05e89a-6626-4d2a-80b8-d91fce5b10dc",
        "part": "whole"
       },
       "id": "e11f8ae0-4c2a-427f-9ce1-6d2030864789"
      }
     }
    },
    "0ecfe752-d0d4-427b-a58b-d20b13302e5a": {
     "id": "0ecfe752-d0d4-427b-a58b-d20b13302e5a",
     "prev": "044e8d67-8b4d-4629-a04d-39050f5231d9",
     "regions": {
      "109e21ee-47ac-4ae8-875d-adbf0684213c": {
       "attrs": {
        "height": 0.8,
        "width": 0.8,
        "x": 0.1,
        "y": 0.1
       },
       "content": {
        "cell": "24f65564-b617-41e6-b999-8c2a11493f16",
        "part": "whole"
       },
       "id": "109e21ee-47ac-4ae8-875d-adbf0684213c"
      }
     }
    },
    "12d4391c-8e2e-4c8d-8c0d-c97aa045a8d7": {
     "id": "12d4391c-8e2e-4c8d-8c0d-c97aa045a8d7",
     "prev": "0ecfe752-d0d4-427b-a58b-d20b13302e5a",
     "regions": {
      "d275a227-8f2c-4c0d-840d-c4551afc7182": {
       "attrs": {
        "height": 0.8,
        "width": 0.8,
        "x": 0.1,
        "y": 0.1
       },
       "content": {
        "cell": "101b8753-ed7c-41d3-ae52-0f1dbb71f87a",
        "part": "whole"
       },
       "id": "d275a227-8f2c-4c0d-840d-c4551afc7182"
      }
     }
    },
    "1c20a8ed-d142-4b9b-b61a-19109f041f6e": {
     "id": "1c20a8ed-d142-4b9b-b61a-19109f041f6e",
     "prev": "5cfede70-f313-4936-8cd9-8e5405a06a90",
     "regions": {
      "34df1a80-fd9f-42bd-93f4-bbef81da251a": {
       "attrs": {
        "height": 0.8,
        "width": 0.8000000000000002,
        "x": 0.09479166666666661,
        "y": 0.15555555555555553
       },
       "content": {
        "cell": "b4331b37-9a77-4e3a-94d0-8ed213b0c22d",
        "part": "whole"
       },
       "id": "34df1a80-fd9f-42bd-93f4-bbef81da251a"
      }
     }
    },
    "1d047a7f-f8b5-416a-bbd2-94752f318ebb": {
     "id": "1d047a7f-f8b5-416a-bbd2-94752f318ebb",
     "prev": null,
     "regions": {
      "4992d321-802f-426f-98f2-3fe9670d9fa3": {
       "attrs": {
        "height": 0.8,
        "width": 0.8,
        "x": 0.1,
        "y": 0.1
       },
       "content": {
        "cell": "ec4e983b-9809-456c-9ffd-d8f7e6c58ee1",
        "part": "whole"
       },
       "id": "4992d321-802f-426f-98f2-3fe9670d9fa3"
      }
     }
    },
    "2bef15e9-1d75-4711-8cbb-7868df2267ef": {
     "id": "2bef15e9-1d75-4711-8cbb-7868df2267ef",
     "prev": "e34313be-d557-4f41-9634-4e5eae2578ef",
     "regions": {
      "8afa3815-b5d8-4f1c-891a-034b10ff5dfc": {
       "attrs": {
        "height": 0.8,
        "width": 0.8,
        "x": 0.1,
        "y": 0.1
       },
       "content": {
        "cell": "f7f5eb62-1af7-4765-bf1d-206e884a67bb",
        "part": "whole"
       },
       "id": "8afa3815-b5d8-4f1c-891a-034b10ff5dfc"
      }
     }
    },
    "2c402587-f394-4b40-9cf4-f6c29754fa75": {
     "id": "2c402587-f394-4b40-9cf4-f6c29754fa75",
     "prev": "1d047a7f-f8b5-416a-bbd2-94752f318ebb",
     "regions": {
      "208211c2-33d9-4898-8eef-7e439abf4161": {
       "attrs": {
        "height": 0.8,
        "width": 0.8,
        "x": 0.1,
        "y": 0.1
       },
       "content": {
        "cell": "8f1fe28d-7bef-4e3a-afd3-ba8433ad7f20",
        "part": "whole"
       },
       "id": "208211c2-33d9-4898-8eef-7e439abf4161"
      }
     }
    },
    "5cfede70-f313-4936-8cd9-8e5405a06a90": {
     "id": "5cfede70-f313-4936-8cd9-8e5405a06a90",
     "prev": "2bef15e9-1d75-4711-8cbb-7868df2267ef",
     "regions": {
      "2010fe85-8bfb-426b-bd48-6d0e2bf7570f": {
       "attrs": {
        "height": 0.8,
        "width": 0.8,
        "x": 0.1,
        "y": 0.1
       },
       "content": {
        "cell": "cfaa1967-458b-4922-ab52-8fa678a7009d",
        "part": "whole"
       },
       "id": "2010fe85-8bfb-426b-bd48-6d0e2bf7570f"
      }
     }
    },
    "86aa7719-9b92-4e55-84ad-00c5214269a8": {
     "id": "86aa7719-9b92-4e55-84ad-00c5214269a8",
     "prev": "d883ceb6-0026-4cfa-945f-75d0c848ba89",
     "regions": {
      "bdadb56d-5567-4985-8a56-1597a9714493": {
       "attrs": {
        "height": 0.8,
        "width": 0.8,
        "x": 0.1,
        "y": 0.1
       },
       "content": {
        "cell": "9a4b3ec8-9f34-441c-bf05-6546bbe3fc4f",
        "part": "whole"
       },
       "id": "bdadb56d-5567-4985-8a56-1597a9714493"
      }
     }
    },
    "9ed67381-3a32-4e7d-83ef-6988b754da65": {
     "id": "9ed67381-3a32-4e7d-83ef-6988b754da65",
     "prev": "ffb60ecf-f75c-4d50-a217-31cfaac16081",
     "regions": {
      "90948f01-0824-48da-aec2-3405bb78d418": {
       "attrs": {
        "height": 0.8,
        "width": 0.8,
        "x": 0.1,
        "y": 0.1
       },
       "content": {
        "cell": "60ded08f-b32d-46db-b39e-9260c217e86d",
        "part": "whole"
       },
       "id": "90948f01-0824-48da-aec2-3405bb78d418"
      }
     }
    },
    "bfe3e20a-1e49-46c0-9a3c-18a99e183b98": {
     "id": "bfe3e20a-1e49-46c0-9a3c-18a99e183b98",
     "prev": "9ed67381-3a32-4e7d-83ef-6988b754da65",
     "regions": {
      "6d9ba6e9-71c1-4075-9b4a-b27bebb2c944": {
       "attrs": {
        "height": 0.8,
        "width": 0.8,
        "x": 0.1,
        "y": 0.1
       },
       "content": {
        "cell": "76c6b5ed-dfd2-47d6-8da1-95832cf3dad1",
        "part": "whole"
       },
       "id": "6d9ba6e9-71c1-4075-9b4a-b27bebb2c944"
      }
     }
    },
    "d883ceb6-0026-4cfa-945f-75d0c848ba89": {
     "id": "d883ceb6-0026-4cfa-945f-75d0c848ba89",
     "prev": "12d4391c-8e2e-4c8d-8c0d-c97aa045a8d7",
     "regions": {
      "1a561297-4f6a-4721-bf67-53da27e2ba2f": {
       "attrs": {
        "height": 0.8,
        "width": 0.8,
        "x": 0.1,
        "y": 0.1
       },
       "content": {
        "cell": "f61b6bb4-0230-4f5b-9754-9ff80eff6308",
        "part": "whole"
       },
       "id": "1a561297-4f6a-4721-bf67-53da27e2ba2f"
      }
     }
    },
    "e34313be-d557-4f41-9634-4e5eae2578ef": {
     "id": "e34313be-d557-4f41-9634-4e5eae2578ef",
     "prev": "e7caeec4-9261-4c65-8329-6a82c2654957",
     "regions": {
      "2ee38444-de57-40f0-b1cf-ceff569ec5ef": {
       "attrs": {
        "height": 0.8,
        "width": 0.8,
        "x": 0.1,
        "y": 0.1
       },
       "content": {
        "cell": "ba1dfb6a-d445-418b-957e-11576abacb1e",
        "part": "whole"
       },
       "id": "2ee38444-de57-40f0-b1cf-ceff569ec5ef"
      }
     }
    },
    "e7caeec4-9261-4c65-8329-6a82c2654957": {
     "id": "e7caeec4-9261-4c65-8329-6a82c2654957",
     "prev": "86aa7719-9b92-4e55-84ad-00c5214269a8",
     "regions": {
      "6fdd6d2d-c5bf-4708-a979-c4fd0ff2dd40": {
       "attrs": {
        "height": 0.8,
        "width": 0.8,
        "x": 0.1,
        "y": 0.1
       },
       "content": {
        "cell": "ce8ed794-1bd2-473f-99eb-8a382fa59411",
        "part": "whole"
       },
       "id": "6fdd6d2d-c5bf-4708-a979-c4fd0ff2dd40"
      }
     }
    },
    "ffb60ecf-f75c-4d50-a217-31cfaac16081": {
     "id": "ffb60ecf-f75c-4d50-a217-31cfaac16081",
     "prev": "1c20a8ed-d142-4b9b-b61a-19109f041f6e",
     "regions": {
      "5ba4d96c-f4ef-4b7b-b0ff-33922b4fe9e6": {
       "attrs": {
        "height": 0.8,
        "width": 0.8,
        "x": 0.1,
        "y": 0.1
       },
       "content": {
        "cell": "b2c3897d-5c6a-4cf9-a4dc-a74ffda5bca1",
        "part": "whole"
       },
       "id": "5ba4d96c-f4ef-4b7b-b0ff-33922b4fe9e6"
      }
     }
    }
   },
   "themes": {
    "default": "67fa5553-afca-4416-b634-ebd8a7c12b17",
    "theme": {
     "16945471-362e-4514-aa6a-5c9d31907dfe": {
      "backgrounds": {
       "dc7afa04-bf90-40b1-82a5-726e3cff5267": {
        "background-color": "31af15d2-7e15-44c5-ab5e-e04b16a89eff",
        "id": "dc7afa04-bf90-40b1-82a5-726e3cff5267"
       }
      },
      "id": "16945471-362e-4514-aa6a-5c9d31907dfe",
      "palette": {
       "19cc588f-0593-49c9-9f4b-e4d7cc113b1c": {
        "id": "19cc588f-0593-49c9-9f4b-e4d7cc113b1c",
        "rgb": [
         252,
         252,
         252
        ]
       },
       "31af15d2-7e15-44c5-ab5e-e04b16a89eff": {
        "id": "31af15d2-7e15-44c5-ab5e-e04b16a89eff",
        "rgb": [
         68,
         68,
         68
        ]
       },
       "50f92c45-a630-455b-aec3-788680ec7410": {
        "id": "50f92c45-a630-455b-aec3-788680ec7410",
        "rgb": [
         197,
         226,
         245
        ]
       },
       "c5cc3653-2ee1-402a-aba2-7caae1da4f6c": {
        "id": "c5cc3653-2ee1-402a-aba2-7caae1da4f6c",
        "rgb": [
         43,
         126,
         184
        ]
       },
       "efa7f048-9acb-414c-8b04-a26811511a21": {
        "id": "efa7f048-9acb-414c-8b04-a26811511a21",
        "rgb": [
         25.118061674008803,
         73.60176211453744,
         107.4819383259912
        ]
       }
      },
      "rules": {
       "a": {
        "color": "19cc588f-0593-49c9-9f4b-e4d7cc113b1c"
       },
       "blockquote": {
        "color": "50f92c45-a630-455b-aec3-788680ec7410",
        "font-size": 3
       },
       "code": {
        "font-family": "Anonymous Pro"
       },
       "h1": {
        "color": "19cc588f-0593-49c9-9f4b-e4d7cc113b1c",
        "font-family": "Merriweather",
        "font-size": 8
       },
       "h2": {
        "color": "19cc588f-0593-49c9-9f4b-e4d7cc113b1c",
        "font-family": "Merriweather",
        "font-size": 6
       },
       "h3": {
        "color": "50f92c45-a630-455b-aec3-788680ec7410",
        "font-family": "Lato",
        "font-size": 5.5
       },
       "h4": {
        "color": "c5cc3653-2ee1-402a-aba2-7caae1da4f6c",
        "font-family": "Lato",
        "font-size": 5
       },
       "h5": {
        "font-family": "Lato"
       },
       "h6": {
        "font-family": "Lato"
       },
       "h7": {
        "font-family": "Lato"
       },
       "li": {
        "color": "50f92c45-a630-455b-aec3-788680ec7410",
        "font-size": 3.25
       },
       "pre": {
        "font-family": "Anonymous Pro",
        "font-size": 4
       }
      },
      "text-base": {
       "color": "19cc588f-0593-49c9-9f4b-e4d7cc113b1c",
       "font-family": "Lato",
       "font-size": 4
      }
     },
     "67fa5553-afca-4416-b634-ebd8a7c12b17": {
      "id": "67fa5553-afca-4416-b634-ebd8a7c12b17",
      "palette": {
       "19cc588f-0593-49c9-9f4b-e4d7cc113b1c": {
        "id": "19cc588f-0593-49c9-9f4b-e4d7cc113b1c",
        "rgb": [
         252,
         252,
         252
        ]
       },
       "31af15d2-7e15-44c5-ab5e-e04b16a89eff": {
        "id": "31af15d2-7e15-44c5-ab5e-e04b16a89eff",
        "rgb": [
         68,
         68,
         68
        ]
       },
       "50f92c45-a630-455b-aec3-788680ec7410": {
        "id": "50f92c45-a630-455b-aec3-788680ec7410",
        "rgb": [
         155,
         177,
         192
        ]
       },
       "c5cc3653-2ee1-402a-aba2-7caae1da4f6c": {
        "id": "c5cc3653-2ee1-402a-aba2-7caae1da4f6c",
        "rgb": [
         43,
         126,
         184
        ]
       },
       "efa7f048-9acb-414c-8b04-a26811511a21": {
        "id": "efa7f048-9acb-414c-8b04-a26811511a21",
        "rgb": [
         25.118061674008803,
         73.60176211453744,
         107.4819383259912
        ]
       }
      },
      "rules": {
       "blockquote": {
        "color": "50f92c45-a630-455b-aec3-788680ec7410"
       },
       "code": {
        "font-family": "Anonymous Pro"
       },
       "h1": {
        "color": "c5cc3653-2ee1-402a-aba2-7caae1da4f6c",
        "font-family": "Lato",
        "font-size": 8
       },
       "h2": {
        "color": "c5cc3653-2ee1-402a-aba2-7caae1da4f6c",
        "font-family": "Lato",
        "font-size": 6
       },
       "h3": {
        "color": "50f92c45-a630-455b-aec3-788680ec7410",
        "font-family": "Lato",
        "font-size": 5.5
       },
       "h4": {
        "color": "c5cc3653-2ee1-402a-aba2-7caae1da4f6c",
        "font-family": "Lato",
        "font-size": 5
       },
       "h5": {
        "font-family": "Lato"
       },
       "h6": {
        "font-family": "Lato"
       },
       "h7": {
        "font-family": "Lato"
       },
       "pre": {
        "font-family": "Anonymous Pro",
        "font-size": 4
       }
      },
      "text-base": {
       "font-family": "Merriweather",
       "font-size": 4
      }
     },
     "6b2237fc-40b1-461e-af1f-3efca6859fdf": {
      "backgrounds": {
       "dc7afa04-bf90-40b1-82a5-726e3cff5267": {
        "background-color": "31af15d2-7e15-44c5-ab5e-e04b16a89eff",
        "id": "dc7afa04-bf90-40b1-82a5-726e3cff5267"
       }
      },
      "id": "6b2237fc-40b1-461e-af1f-3efca6859fdf",
      "palette": {
       "19cc588f-0593-49c9-9f4b-e4d7cc113b1c": {
        "id": "19cc588f-0593-49c9-9f4b-e4d7cc113b1c",
        "rgb": [
         252,
         252,
         252
        ]
       },
       "31af15d2-7e15-44c5-ab5e-e04b16a89eff": {
        "id": "31af15d2-7e15-44c5-ab5e-e04b16a89eff",
        "rgb": [
         68,
         68,
         68
        ]
       },
       "50f92c45-a630-455b-aec3-788680ec7410": {
        "id": "50f92c45-a630-455b-aec3-788680ec7410",
        "rgb": [
         197,
         226,
         245
        ]
       },
       "c5cc3653-2ee1-402a-aba2-7caae1da4f6c": {
        "id": "c5cc3653-2ee1-402a-aba2-7caae1da4f6c",
        "rgb": [
         43,
         126,
         184
        ]
       },
       "efa7f048-9acb-414c-8b04-a26811511a21": {
        "id": "efa7f048-9acb-414c-8b04-a26811511a21",
        "rgb": [
         25.118061674008803,
         73.60176211453744,
         107.4819383259912
        ]
       }
      },
      "rules": {
       "a": {
        "color": "19cc588f-0593-49c9-9f4b-e4d7cc113b1c"
       },
       "blockquote": {
        "color": "50f92c45-a630-455b-aec3-788680ec7410",
        "font-size": 3
       },
       "code": {
        "font-family": "Anonymous Pro"
       },
       "h1": {
        "color": "19cc588f-0593-49c9-9f4b-e4d7cc113b1c",
        "font-family": "Merriweather",
        "font-size": 8
       },
       "h2": {
        "color": "19cc588f-0593-49c9-9f4b-e4d7cc113b1c",
        "font-family": "Merriweather",
        "font-size": 6
       },
       "h3": {
        "color": "50f92c45-a630-455b-aec3-788680ec7410",
        "font-family": "Lato",
        "font-size": 5.5
       },
       "h4": {
        "color": "c5cc3653-2ee1-402a-aba2-7caae1da4f6c",
        "font-family": "Lato",
        "font-size": 5
       },
       "h5": {
        "font-family": "Lato"
       },
       "h6": {
        "font-family": "Lato"
       },
       "h7": {
        "font-family": "Lato"
       },
       "li": {
        "color": "50f92c45-a630-455b-aec3-788680ec7410",
        "font-size": 3.25
       },
       "pre": {
        "font-family": "Anonymous Pro",
        "font-size": 4
       }
      },
      "text-base": {
       "color": "19cc588f-0593-49c9-9f4b-e4d7cc113b1c",
       "font-family": "Lato",
       "font-size": 4
      }
     },
     "b2b14a38-dd71-4ef6-94e9-cea7b7ee2cfe": {
      "backgrounds": {
       "dc7afa04-bf90-40b1-82a5-726e3cff5267": {
        "background-color": "31af15d2-7e15-44c5-ab5e-e04b16a89eff",
        "id": "dc7afa04-bf90-40b1-82a5-726e3cff5267"
       }
      },
      "id": "b2b14a38-dd71-4ef6-94e9-cea7b7ee2cfe",
      "palette": {
       "19cc588f-0593-49c9-9f4b-e4d7cc113b1c": {
        "id": "19cc588f-0593-49c9-9f4b-e4d7cc113b1c",
        "rgb": [
         252,
         252,
         252
        ]
       },
       "31af15d2-7e15-44c5-ab5e-e04b16a89eff": {
        "id": "31af15d2-7e15-44c5-ab5e-e04b16a89eff",
        "rgb": [
         68,
         68,
         68
        ]
       },
       "50f92c45-a630-455b-aec3-788680ec7410": {
        "id": "50f92c45-a630-455b-aec3-788680ec7410",
        "rgb": [
         197,
         226,
         245
        ]
       },
       "c5cc3653-2ee1-402a-aba2-7caae1da4f6c": {
        "id": "c5cc3653-2ee1-402a-aba2-7caae1da4f6c",
        "rgb": [
         43,
         126,
         184
        ]
       },
       "efa7f048-9acb-414c-8b04-a26811511a21": {
        "id": "efa7f048-9acb-414c-8b04-a26811511a21",
        "rgb": [
         25.118061674008803,
         73.60176211453744,
         107.4819383259912
        ]
       }
      },
      "rules": {
       "a": {
        "color": "19cc588f-0593-49c9-9f4b-e4d7cc113b1c"
       },
       "blockquote": {
        "color": "50f92c45-a630-455b-aec3-788680ec7410",
        "font-size": 3
       },
       "code": {
        "font-family": "Anonymous Pro"
       },
       "h1": {
        "color": "19cc588f-0593-49c9-9f4b-e4d7cc113b1c",
        "font-family": "Merriweather",
        "font-size": 8
       },
       "h2": {
        "color": "19cc588f-0593-49c9-9f4b-e4d7cc113b1c",
        "font-family": "Merriweather",
        "font-size": 6
       },
       "h3": {
        "color": "50f92c45-a630-455b-aec3-788680ec7410",
        "font-family": "Lato",
        "font-size": 5.5
       },
       "h4": {
        "color": "c5cc3653-2ee1-402a-aba2-7caae1da4f6c",
        "font-family": "Lato",
        "font-size": 5
       },
       "h5": {
        "font-family": "Lato"
       },
       "h6": {
        "font-family": "Lato"
       },
       "h7": {
        "font-family": "Lato"
       },
       "li": {
        "color": "50f92c45-a630-455b-aec3-788680ec7410",
        "font-size": 3.25
       },
       "pre": {
        "font-family": "Anonymous Pro",
        "font-size": 4
       }
      },
      "text-base": {
       "color": "19cc588f-0593-49c9-9f4b-e4d7cc113b1c",
       "font-family": "Lato",
       "font-size": 4
      }
     }
    }
   }
  }
 },
 "nbformat": 4,
 "nbformat_minor": 1
}
