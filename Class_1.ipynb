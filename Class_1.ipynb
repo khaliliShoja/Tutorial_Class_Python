{
 "cells": [
  {
   "cell_type": "code",
   "execution_count": 108,
   "metadata": {
    "collapsed": false
   },
   "outputs": [
    {
     "name": "stdout",
     "output_type": "stream",
     "text": [
      "<__main__.Employee object at 0x0000003CFAAF5BA8>\n",
      "<__main__.Employee object at 0x0000003CFAAF5B70>\n",
      "A.B@gmail.com\n",
      "C.D@gmail.com\n"
     ]
    }
   ],
   "source": [
    "class Employee:\n",
    "    pass\n",
    "\n",
    "\n",
    "emp_1=Employee()\n",
    "emp_2=Employee()\n",
    "print (emp_1)\n",
    "print (emp_2)\n",
    "\n",
    "emp_1.first=\"A\"\n",
    "emp_1.last=\"B\"\n",
    "emp_1.email=\"A.B@gmail.com\"\n",
    "emp_1.pay=7000\n",
    "\n",
    "\n",
    "\n",
    "\n",
    "emp_2.first=\"C\"\n",
    "emp_2.last=\"D\"\n",
    "emp_2.email=\"C.D@gmail.com\"\n",
    "emp_2.pay=7000\n",
    "\n",
    "\n",
    "\n",
    "print(emp_1.email)\n",
    "print(emp_2.email)"
   ]
  },
  {
   "cell_type": "code",
   "execution_count": 109,
   "metadata": {
    "collapsed": false
   },
   "outputs": [
    {
     "name": "stdout",
     "output_type": "stream",
     "text": [
      "A\n",
      "The name is: A and the family is: B\n",
      "The name is: A and the family is: B\n",
      "The name is: A and the family is: B\n"
     ]
    }
   ],
   "source": [
    "\n",
    "class Employee:\n",
    "    def __init__(self, first,last,pay):\n",
    "        self.first=first\n",
    "        self.last=last\n",
    "        self.pay=pay\n",
    "        self.email=first+'.'+last+\"@gmail.com\"\n",
    " \n",
    "        \n",
    "        \n",
    "    def fullname(self):\n",
    "        return \"The name is: {} and the family is: {}\".format(self.first,self.last)\n",
    "emp_1=Employee(\"A\",\"B\",5000)\n",
    "print(emp_1.first)\n",
    "\n",
    "print(\"The name is: {} and the family is: {}\".format(emp_1.first,emp_1.last))\n",
    "print(emp_1.fullname())\n",
    "\n",
    "\n",
    "\n",
    "print(Employee.fullname(emp_1))"
   ]
  },
  {
   "cell_type": "code",
   "execution_count": 110,
   "metadata": {
    "collapsed": false
   },
   "outputs": [
    {
     "name": "stdout",
     "output_type": "stream",
     "text": [
      "5000\n",
      "5200.0\n"
     ]
    }
   ],
   "source": [
    "   \n",
    "class Employee:\n",
    "    raise_amount=1.04\n",
    "    def __init__(self, first,last,pay):\n",
    "        self.first=first\n",
    "        self.last=last\n",
    "        self.pay=pay\n",
    "        self.email=first+'.'+last+\"@gmail.com\"\n",
    " \n",
    "        \n",
    "        \n",
    "    def fullname(self):\n",
    "        return \"The name is: {} and the family is: {}\".format(self.first,self.last)     \n",
    "        \n",
    "    def apply_raise(self):\n",
    "        self.pay= self.pay*self.raise_amount\n",
    "        \n",
    "        \n",
    "emp_1=Employee(\"A\",\"B\",5000)   \n",
    "print(emp_1.pay) \n",
    "emp_1.apply_raise()\n",
    "print(emp_1.pay) "
   ]
  },
  {
   "cell_type": "code",
   "execution_count": 111,
   "metadata": {
    "collapsed": false
   },
   "outputs": [
    {
     "name": "stdout",
     "output_type": "stream",
     "text": [
      "{'last': 'B', 'first': 'A', 'pay': 5200.0, 'email': 'A.B@gmail.com'}\n"
     ]
    }
   ],
   "source": [
    "\n",
    "print(emp_1.__dict__)   \n",
    "     \n",
    "  "
   ]
  },
  {
   "cell_type": "code",
   "execution_count": 112,
   "metadata": {
    "collapsed": false
   },
   "outputs": [
    {
     "name": "stdout",
     "output_type": "stream",
     "text": [
      "1.04\n",
      "1.04\n"
     ]
    }
   ],
   "source": [
    "print(Employee.raise_amount)\n",
    "print(emp_1.raise_amount) "
   ]
  },
  {
   "cell_type": "code",
   "execution_count": 113,
   "metadata": {
    "collapsed": false
   },
   "outputs": [
    {
     "name": "stdout",
     "output_type": "stream",
     "text": [
      "{'last': 'B', 'first': 'A', 'pay': 5200.0, 'email': 'A.B@gmail.com'}\n"
     ]
    }
   ],
   "source": [
    "print(emp_1.__dict__) "
   ]
  },
  {
   "cell_type": "code",
   "execution_count": 114,
   "metadata": {
    "collapsed": false
   },
   "outputs": [
    {
     "name": "stdout",
     "output_type": "stream",
     "text": [
      "{'__init__': <function Employee.__init__ at 0x0000003CFAAC50D0>, '__doc__': None, '__weakref__': <attribute '__weakref__' of 'Employee' objects>, 'raise_amount': 1.04, 'apply_raise': <function Employee.apply_raise at 0x0000003CFA6CD598>, '__module__': '__main__', '__dict__': <attribute '__dict__' of 'Employee' objects>, 'fullname': <function Employee.fullname at 0x0000003CFAAC5B70>}\n"
     ]
    }
   ],
   "source": [
    "print(Employee.__dict__)  "
   ]
  },
  {
   "cell_type": "code",
   "execution_count": 115,
   "metadata": {
    "collapsed": true
   },
   "outputs": [],
   "source": [
    "Employee.raise_amount=1.06  "
   ]
  },
  {
   "cell_type": "code",
   "execution_count": 116,
   "metadata": {
    "collapsed": false
   },
   "outputs": [
    {
     "name": "stdout",
     "output_type": "stream",
     "text": [
      "1.06\n",
      "1.06\n"
     ]
    }
   ],
   "source": [
    "print(Employee.raise_amount)\n",
    "print(emp_1.raise_amount) "
   ]
  },
  {
   "cell_type": "code",
   "execution_count": 117,
   "metadata": {
    "collapsed": false
   },
   "outputs": [
    {
     "name": "stdout",
     "output_type": "stream",
     "text": [
      "{'__init__': <function Employee.__init__ at 0x0000003CFAAC50D0>, '__doc__': None, '__weakref__': <attribute '__weakref__' of 'Employee' objects>, 'raise_amount': 1.06, 'apply_raise': <function Employee.apply_raise at 0x0000003CFA6CD598>, '__module__': '__main__', '__dict__': <attribute '__dict__' of 'Employee' objects>, 'fullname': <function Employee.fullname at 0x0000003CFAAC5B70>}\n",
      "{'last': 'B', 'first': 'A', 'pay': 5200.0, 'email': 'A.B@gmail.com'}\n"
     ]
    }
   ],
   "source": [
    "print(Employee.__dict__)  \n",
    "\n",
    "print(emp_1.__dict__)    "
   ]
  },
  {
   "cell_type": "code",
   "execution_count": 118,
   "metadata": {
    "collapsed": false
   },
   "outputs": [
    {
     "name": "stdout",
     "output_type": "stream",
     "text": [
      "{'last': 'B', 'first': 'A', 'raise_amount': 1.08, 'pay': 5200.0, 'email': 'A.B@gmail.com'}\n"
     ]
    }
   ],
   "source": [
    "\n",
    "emp_1.raise_amount=1.08  \n",
    "\n",
    "print(emp_1.__dict__)   "
   ]
  },
  {
   "cell_type": "code",
   "execution_count": null,
   "metadata": {
    "collapsed": true
   },
   "outputs": [],
   "source": []
  }
 ],
 "metadata": {
  "anaconda-cloud": {},
  "kernelspec": {
   "display_name": "Python [conda root]",
   "language": "python",
   "name": "conda-root-py"
  },
  "language_info": {
   "codemirror_mode": {
    "name": "ipython",
    "version": 3
   },
   "file_extension": ".py",
   "mimetype": "text/x-python",
   "name": "python",
   "nbconvert_exporter": "python",
   "pygments_lexer": "ipython3",
   "version": "3.5.2"
  }
 },
 "nbformat": 4,
 "nbformat_minor": 1
}
